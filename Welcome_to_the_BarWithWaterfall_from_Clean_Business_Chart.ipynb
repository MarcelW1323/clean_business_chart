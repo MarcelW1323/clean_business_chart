{
 "cells": [
  {
   "cell_type": "markdown",
   "id": "aeb3ea88",
   "metadata": {
    "id": "aeb3ea88"
   },
   "source": [
    "# Welcome to BarWithWaterfall from Clean Business Chart"
   ]
  },
  {
   "cell_type": "markdown",
   "id": "65e57132",
   "metadata": {
    "id": "65e57132"
   },
   "source": [
    "### Why Clean Business Chart?\n",
    "\n",
    "As a data analyst, I'm using Python for more complex analysis. And right there, where I have some findings, I need to do a lot of work to get a good business chart out of matplotlib or seaborn (both are visualisation packages in the Python world).\n",
    "\n",
    "Next to that, a couple of years ago I was introduced into __[IBCS](https://www.ibcs.com)__ (International Business Communication Standards). They have great guidelines on making charts that stand on their own.\n",
    "\n",
    "I found that there were no IBCS-inspired packages for Python and that's where my intrinsically motivation for business data visualisations and my software engineering knowledge came together.\n",
    "\n",
    "So, you are looking at the second release of Clean Business Chart. I am planning to add functionality to it, but I don't have a strict time schedule for it. I have other hobbies like my family, music, photography, learning and more. If you are a Python developer and wants to contribute to this package, feel free. This Open Source package has the __[MIT License](https://en.wikipedia.org/wiki/MIT_License)__, which means you can do almost anything with this package or parts of it. Use it, change it, sell it, integrate it in your own product and so on. More details in the MIT-license information.\n",
    "\n",
    "Releases:\n",
    "- First release contains the ColumnWithWaterfall for visualizing the months of the year in the chart\n",
    "- Second release contains the BarWithWaterfall for visualizing over a category-of-interest in the chart\n",
    "\n",
    "Thanks for reading, and now back to business!<br>\n",
    "\n",
    "Marcel Wuijtenburg<br>\n",
    "marcelw1323(at)gmail.com\n",
    "\n",
    "Follow the public __[LinkedIn-group about Clean Business Chart](https://www.linkedin.com/groups/12827987/)__ for the most recent information."
   ]
  },
  {
   "cell_type": "markdown",
   "id": "985dfe8c",
   "metadata": {
    "id": "985dfe8c"
   },
   "source": [
    "### IBCS-inspired, what means that?\n",
    "\n",
    "IBCS-inspired means that this package follows most of the IBCS-rules (IBCS is Creative Commons (https://www.ibcs.com/terms-of-use/)). In the provided charts you'll see the following:\n",
    "* Visualisation of the main bars:\n",
    "  * Solid. These are the actual figures. You have a dark grey (almost black) color for the actuals of the reporting year (AC) and a lighter grey for actuals of a previous year (PY).\n",
    "  * Outlined. These are the planned (PL) or budget figures.\n",
    "  * Hatched. These are the forecast (FC) figures.\n",
    "By the way: \"Solid, Outlined, Hatched\" is a good book about IBCS.\n",
    "\n",
    "* Colors:\n",
    "  * Green: Only used to express a good variance from a business perspective\n",
    "  * Red: Only used to express a bad variance from a business perspective.\n",
    "  * Blue: Only used to highlight things in the charts.\n"
   ]
  },
  {
   "cell_type": "markdown",
   "id": "001316c9",
   "metadata": {
    "id": "001316c9"
   },
   "source": [
    "### Starting with Clean Business Chart\n",
    "\n",
    "To make a Clean Business Chart you need to follow these 4 steps:\n",
    "1. Install the package\n",
    "1. Import the package\n",
    "1. Make the dataset\n",
    "1. Show the business chart"
   ]
  },
  {
   "cell_type": "markdown",
   "id": "08e4fd68",
   "metadata": {
    "id": "08e4fd68"
   },
   "source": [
    "#### 1. Install the package\n",
    "\n",
    "You need to install the Clean Business Chart package only once. It has a dependency with the matplotlib-package and the pandas-package that will be resolved automatically."
   ]
  },
  {
   "cell_type": "code",
   "execution_count": null,
   "id": "208c2cc7",
   "metadata": {
    "colab": {
     "base_uri": "https://localhost:8080/"
    },
    "id": "208c2cc7",
    "outputId": "dc98a45c-3d40-4cec-ebbc-4d800611d62f"
   },
   "outputs": [],
   "source": [
    "pip install clean_business_chart"
   ]
  },
  {
   "cell_type": "markdown",
   "id": "fd642f44",
   "metadata": {
    "id": "fd642f44"
   },
   "source": [
    "#### 2. Import the package\n",
    "\n",
    "Everytime you want to use the package, you need to import the package only once per Jupyter-notebook or other file"
   ]
  },
  {
   "cell_type": "code",
   "execution_count": null,
   "id": "8250c050",
   "metadata": {
    "id": "8250c050"
   },
   "outputs": [],
   "source": [
    "import clean_business_chart as cbc   # cbc is an abbreviation making it easier to make a call to the parts of the package"
   ]
  },
  {
   "cell_type": "markdown",
   "id": "6c5cf0c2",
   "metadata": {
    "id": "6c5cf0c2"
   },
   "source": [
    "#### 3. Make the dataset\n",
    "\n",
    "Clean Business Chart supports three ways of making the dataset. The dataset below is the easiest one. And you see that you can fill a title which makes the business chart stand on its own."
   ]
  },
  {
   "cell_type": "code",
   "execution_count": null,
   "id": "9e40e1fb",
   "metadata": {
    "id": "9e40e1fb"
   },
   "outputs": [],
   "source": [
    "# Declare an empty dictionary called 'title_dict' to store title-values\n",
    "title_dict = dict()\n",
    "\n",
    "# Fill the title-values\n",
    "title_dict['Reporting_unit']   = 'ACME inc.'           # Name of the company or the department\n",
    "title_dict['Business_measure'] = 'Net sales'           # Name of the business measure\n",
    "title_dict['Unit']             = 'EUR'                 # Unit: USD or EUR (monetary) or # (count)\n",
    "title_dict['Time']             = '2022'                # More specific information about the time selection\n",
    "\n",
    "# Fill the data to be visualized in this dataset\n",
    "dataset =  { 'HEADERS'      : ['PY','PL','AC','FC'],   # Special keyword 'HEADERS' to indicate the scenario of the value columns\n",
    "             'Spain'        : [ 30 , 33 , 53 ,  0 ],\n",
    "             'Greece'       : [ 38 , 33 , 39 ,  0 ],\n",
    "             'Sweden'       : [ 38 , 35 , 40 ,  0 ],\n",
    "             'Germany'      : [ 90 , 89 , 93 ,  0 ],\n",
    "             'Russia'       : [ 60 , 56 , 60 ,  0 ],\n",
    "             'Italy'        : [ 15 , 12 , 14 ,  0 ],\n",
    "             'Great Britain': [ 15 , 13 , 15 ,  0 ],\n",
    "             'Slovenia'     : [  4 ,  5 ,  4 ,  0 ],\n",
    "             'Denmark'      : [ 29 , 35 , 33 ,  0 ],\n",
    "             'Netherlands'  : [ 39 , 42 , 38 ,  0 ],\n",
    "             'France'       : [ 60 , 77 , 63 ,  0 ],\n",
    "             'OTHER'        : [ 40 , 37 , 44 ,  0 ]}   # Special keyword 'OTHERS' to indicate the row with the remaining values"
   ]
  },
  {
   "cell_type": "markdown",
   "id": "a158af3f",
   "metadata": {
    "id": "a158af3f"
   },
   "source": [
    "#### 4. Show the business chart\n",
    "\n",
    "Call the BarWithWaterfall with the parameters to show the business chart"
   ]
  },
  {
   "cell_type": "code",
   "execution_count": null,
   "id": "4e0f2618",
   "metadata": {
    "colab": {
     "base_uri": "https://localhost:8080/",
     "height": 567
    },
    "id": "4e0f2618",
    "outputId": "9373fe26-1a5b-4e63-c68f-c4a5afe558e3"
   },
   "outputs": [
    {
     "data": {
      "image/png": "[encoded data removed]",
      "text/plain": [
       "<Figure size 576x576 with 1 Axes>"
      ]
     },
     "metadata": {},
     "output_type": "display_data"
    }
   ],
   "source": [
    "chart1 = cbc.BarWithWaterfall(data=dataset,             # Assign the dataset to the parameter data\n",
    "                              title=title_dict,         # Assign the title_dict to the parameter title\n",
    "                              compare_scenarios='AC',   # Which is the main scenario in the detail part of the chart\n",
    "                              total_text=\"Europe\",      # What is the title of the total bars (default: 'Total')\n",
    "                              force_zero_decimals=True, # Force the output to have no decimals\n",
    "                              other=\"Rest of Europe\",   # What is the title of the other bar (default: 'OTHER')\n",
    "                              multiplier='m')           # Multiplier will be used in the title and will also\n",
    "                                                        #      be used with optimizations"
   ]
  },
  {
   "cell_type": "markdown",
   "id": "43bffb73",
   "metadata": {
    "id": "43bffb73"
   },
   "source": [
    "Ok, that's it! You made your first BarWithWaterfall chart with Clean Business Chart. Feel free to change the entries in the title_dict and the values in the dataset.<br>\n",
    "\n",
    "You can use normal values to visualise, for example '42325873' for a value of approx 42.3 million. If you do this, make the multiplier = \"1\". You can read more about this in the parameter section below."
   ]
  },
  {
   "cell_type": "markdown",
   "id": "b7d552b1",
   "metadata": {
    "id": "b7d552b1"
   },
   "source": [
    "### Parameter"
   ]
  },
  {
   "cell_type": "markdown",
   "id": "58618c46",
   "metadata": {
    "id": "58618c46"
   },
   "source": [
    " All possible parameters are described below. Most parameters have default values."
   ]
  },
  {
   "cell_type": "markdown",
   "id": "94d3a1e7",
   "metadata": {
    "id": "94d3a1e7"
   },
   "source": [
    "**data**:\n",
    "* A dictionary with minimal PL and AC or PY and AC detailinformation, like the one you saw above. This is probably the most easy for manual maintenance of values.\n",
    "* A string with CSV-values. If you have a file with CSV-values, you can copy and paste it into a Python string.\n",
    "* A pandas DataFrame. When you are familiar with pandas DataFrames, this is the way to go.\n",
    "* A list of lists is also supported. With this formula, you convert a Pandas DataFrame to a list of lists:<br><code>[df.columns.tolist()] + df.values.tolist()</code><br>This is more for backwards compatibility with the first release of the package."
   ]
  },
  {
   "cell_type": "markdown",
   "id": "dec3a487",
   "metadata": {
    "id": "dec3a487"
   },
   "source": [
    "**positive_is_good**:<br>\n",
    "* True: Makes positive bars on a variance chart visual with a good color (green) and negative bars with a bad color (red). Use this for example with 'Net sales'.\n",
    "* False: Makes positive bars on a variance chart visual with a bad color (red) and negative bars with a good color (green). Use this for example with 'Costs'.\n",
    "\n",
    "Default: True (good color)."
   ]
  },
  {
   "cell_type": "markdown",
   "id": "61c3eaa4",
   "metadata": {
    "id": "61c3eaa4"
   },
   "source": [
    "**base_scenarios**:<br>\n",
    "Use a list of max two scenario's. The first scenario is the preferred base scenario and will be used in the detailed part of the chart. The second scenario will only be used for the aggregated chart part in the beginning (upper bars).\n",
    "* PL uses PLaninfo as the base scenario in the chart,\n",
    "* PY uses Previous Year als the base scenario in the chart,\n",
    "* FC, use Forecast as the base scenario in the chart.\n",
    "\n",
    "Default: None (tries to use the list <code>['PL', 'PY']</code> if both are available or else try one of these)"
   ]
  },
  {
   "cell_type": "markdown",
   "id": "f0923cae",
   "metadata": {
    "id": "f0923cae"
   },
   "source": [
    "**compare_scenarios**<br>\n",
    "Use a list of max two scenario's to compare with the preferred base scenario. For example if preferred base scenario is PL, you can use <code>['AC', 'FC']</code> to compare the actuals with the forecast against the plan.<br>\n",
    "Possible lists to be used: <code>['AC']</code>, <code>['AC', 'FC']</code>, <code>['AC', 'PL']</code>, <code>['AC', 'PY']</code>, <code>['FC']</code> or <code>['PL']</code>, but it depends on the preferred base scenario if the combination can be used<br>\n",
    "\n",
    "**NOTE:** IN THIS VERSION THERE IS NO SUPPORT FOR TWO COMPARE SCENARIOS.\n",
    "\n",
    "Default: None (tries to use <code>['AC', 'FC']</code> if both are available or else try one of these)"
   ]
  },
  {
   "cell_type": "markdown",
   "id": "e5114244",
   "metadata": {
    "id": "e5114244"
   },
   "source": [
    "**title**:<br>A dictionary with text values to construct a title. No part of the title is mandatory, except when 'Business_measure' is filled, the 'Unit' is expected to be filled too.\n",
    "\n",
    "\n",
    "* <code>title['Reporting_unit'] = 'Global Corporation'     </code># This is the name of the company or the project or business unit, added with a selection. For example 'ACME inc., Florida and California'\n",
    "* <code>title['Business_measure'] = 'Net profit'           </code># This is the name of the metric. Can also be a ratio. For example: 'Net profit' or 'Cost per headcount'\n",
    "* <code>title['Unit'] = 'CHF'                              </code># This is the name of the unit. For example: 'USD', 'EUR', '#', '%'.\n",
    "* <code>title['Time'] = '2022'                             </code># This is the description of the time, scenario's and variances. For example: '2022 AC, PL, FC, PL%'\n",
    "\n",
    "Default: None (no title)"
   ]
  },
  {
   "cell_type": "markdown",
   "id": "6a779daa",
   "metadata": {
    "id": "6a779daa"
   },
   "source": [
    "**measure**:<br>I haven't found a use case for this kind of chart with ratio's, but this parameter will be in other charts as well.\n",
    "* True -> measure\n",
    "* False -> ratio\n",
    "\n",
    "Default: True (measure)"
   ]
  },
  {
   "cell_type": "markdown",
   "id": "0577faf9",
   "metadata": {
    "id": "0577faf9"
   },
   "source": [
    "**multiplier**:<br>One character with the multiplier ('1', 'k', 'm', 'b'). This multiplier triggers the optimizer to make the best possible chart with only 3 significant numbers for detail information.\n",
    "* '1': one\n",
    "* 'k': 1000\n",
    "* 'm': 1000000\n",
    "* 'b': 1000000000\n",
    "\n",
    "Default: '1' (one)"
   ]
  },
  {
   "cell_type": "markdown",
   "id": "c9fcc6d9",
   "metadata": {
    "id": "c9fcc6d9"
   },
   "source": [
    "**filename**:<br>String with filename and path to export the chart to, including extention. Only tested with a .png-extention.\n",
    "\n",
    "Default: None (no export of the chart to a file)"
   ]
  },
  {
   "cell_type": "markdown",
   "id": "b7136f5b",
   "metadata": {
    "id": "b7136f5b"
   },
   "source": [
    "**force_pl_is_zero**:\n",
    "* False: If PL has all zero-values then PL can be ignored\n",
    "* True: If PL has all zero-valuess then PL can not be ignored and these zero-values are really the plan-information\n",
    "\n",
    "**NOTE**: THIS PARAMETER IS NOT SUPPORTED YET IN THIS VERSION\n",
    "\n",
    "Default: False (PL can be ignored when all zeros)"
   ]
  },
  {
   "cell_type": "markdown",
   "id": "9354f419",
   "metadata": {
    "id": "9354f419"
   },
   "source": [
    "**force_zero_decimals**:\n",
    "* True, we use integers for output. This gives a more clean chart, but can lack some detail in some cases\n",
    "* False, we use 3 numbers for detail info. This can go up to 2 decimals.\n",
    "\n",
    "Default: False (don't force zero decimals)"
   ]
  },
  {
   "cell_type": "markdown",
   "id": "d077fedb",
   "metadata": {
    "id": "d077fedb"
   },
   "source": [
    "**force_max_one_decimals**:\n",
    "* True, the maximum of decimals used is one. Know that <code>force_zero_decimals</code> has a higher priority than force_max_one_decimals.\n",
    "* False, we don't force max one decimals.\n",
    "\n",
    "Default: False (don't force max one decimals)"
   ]
  },
  {
   "cell_type": "markdown",
   "id": "9bddee10",
   "metadata": {
    "id": "9bddee10"
   },
   "source": [
    "**translate_headers:**<br>\n",
    "Dictionary where you can translate field headers, for example {'Orderdate':'Date', 'Revenue':'AC'}. This can be easy so you don't need it to translate it by yourself before calling the function. It can also be easy if you use this function inside for example \"Power BI\" where you don't want to change the column names inside of Power BI.\n",
    "\n",
    "Default: None (no translation of headers will occur)"
   ]
  },
  {
   "cell_type": "markdown",
   "id": "06723f7b",
   "metadata": {
    "id": "06723f7b"
   },
   "source": [
    "**category_of_interest:**\n",
    "Name of the category of interest (after 'translate_headers').\n",
    "\n",
    "Default: None (the first column available except one of these column names 'Date', 'Year', 'Month', 'AC', 'FC', 'PY', 'PL')"
   ]
  },
  {
   "cell_type": "markdown",
   "id": "5474ac11",
   "metadata": {
    "id": "5474ac11"
   },
   "source": [
    "**previous_year:**<br>\n",
    "Boolean if the previous year needs to be calculated out of the data\n",
    "\n",
    "**NOTE**: THIS PARAMETER IS NOT SUPPORTED YET IN THIS VERSION\n",
    "\n",
    "Default: False (there is no previous year to be calculated out of the data)                                            "
   ]
  },
  {
   "cell_type": "markdown",
   "id": "da907abe",
   "metadata": {
    "id": "da907abe"
   },
   "source": [
    "**total_line:**<br>\n",
    "The total-line makes the chart a bit more like a table, where the end-totals are underneath the line.\n",
    "* If True, a line just above the total bar will be displayed\n",
    "* If False, no line just above the total bar will be displayed\n",
    "\n",
    "Default: True (line will be displayed)"
   ]
  },
  {
   "cell_type": "markdown",
   "id": "42407ab6",
   "metadata": {
    "id": "42407ab6"
   },
   "source": [
    "**remove_lines_with_zeros:**<br>\n",
    "* If True, category-elements with zero in all scenarios will be removed.\n",
    "* If False, nothing will be removed\n",
    "\n",
    "Default: True (category-elements with zero in all scenarios will be removed)  "
   ]
  },
  {
   "cell_type": "markdown",
   "id": "9e954983",
   "metadata": {
    "id": "9e954983"
   },
   "source": [
    "**other:**<br>\n",
    "Text that will be displayed instead of \"OTHER\"\n",
    "\n",
    "Default: None (\"OTHER\" will be displayed)"
   ]
  },
  {
   "cell_type": "markdown",
   "id": "da94b127",
   "metadata": {
    "id": "da94b127"
   },
   "source": [
    "### Version and author check"
   ]
  },
  {
   "cell_type": "code",
   "execution_count": null,
   "id": "db3b0239",
   "metadata": {
    "id": "db3b0239"
   },
   "outputs": [],
   "source": [
    "# check for version and author of the Clean Business Chart package\n",
    "print(cbc.__version__)\n",
    "print(cbc.__author__)"
   ]
  }
 ],
 "metadata": {
  "colab": {
   "provenance": []
  },
  "kernelspec": {
   "display_name": "Python 3 (ipykernel)",
   "language": "python",
   "name": "python3"
  },
  "language_info": {
   "codemirror_mode": {
    "name": "ipython",
    "version": 3
   },
   "file_extension": ".py",
   "mimetype": "text/x-python",
   "name": "python",
   "nbconvert_exporter": "python",
   "pygments_lexer": "ipython3",
   "version": "3.9.13"
  }
 },
 "nbformat": 4,
 "nbformat_minor": 5
}
